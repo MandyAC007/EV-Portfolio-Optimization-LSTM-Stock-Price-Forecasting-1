{
 "cells": [
  {
   "cell_type": "code",
   "execution_count": null,
   "id": "11729f4b-6701-4d40-87da-0297a13559eb",
   "metadata": {},
   "outputs": [],
   "source": [
    "# 01 Tesla 2023.8.5-2025.8.5"
   ]
  },
  {
   "cell_type": "code",
   "execution_count": 28,
   "id": "722b7b57-7b2b-4d20-9fd5-baa26028b336",
   "metadata": {},
   "outputs": [
    {
     "name": "stdout",
     "output_type": "stream",
     "text": [
      "                   Date  Open  High   Low  Close       Volume\n",
      "495 2025-07-29 04:00:00  4.82  4.84  4.68   4.71   38397363.0\n",
      "496 2025-07-30 04:00:00  4.60  4.61  4.51   4.51   40824104.0\n",
      "497 2025-07-31 04:00:00  4.68  4.98  4.46   4.87  131207095.0\n",
      "498 2025-08-01 04:00:00  4.74  5.06  4.73   5.01   81680862.0\n",
      "499 2025-08-04 04:00:00  4.89  4.90  4.58   4.60   92178877.0\n",
      "✅ Saved: NIO_2yr_Price.csv\n"
     ]
    }
   ],
   "source": [
    "import requests\n",
    "import pandas as pd\n",
    "from datetime import datetime, timedelta\n",
    "\n",
    "# ✅ Your API Key from Polygon\n",
    "API_KEY = 'gKxaQAP9WxR86rg3CiZLH0tecbpIGs5x'\n",
    "\n",
    "# ✅ Choose your stock symbol\n",
    "symbol = \"TESLA\"  # Change to \"NIO\", \"XPEV\", or \"BYDDY\" for others\n",
    "\n",
    "# ✅ Date range: Last 2 years\n",
    "today = datetime.today()\n",
    "from_date = (today - timedelta(days=730)).strftime('%Y-%m-%d')\n",
    "to_date = today.strftime('%Y-%m-%d')\n",
    "\n",
    "# ✅ API endpoint and params\n",
    "url = f\"https://api.polygon.io/v2/aggs/ticker/{symbol}/range/1/day/{from_date}/{to_date}\"\n",
    "params = {\n",
    "    \"adjusted\": \"true\",\n",
    "    \"sort\": \"asc\",\n",
    "    \"limit\": 5000,\n",
    "    \"apiKey\": API_KEY\n",
    "}\n",
    "\n",
    "# ✅ Request and handle response\n",
    "response = requests.get(url, params=params)\n",
    "data = response.json()\n",
    "\n",
    "# ✅ Check and parse results\n",
    "if \"results\" in data:\n",
    "    results = data[\"results\"]\n",
    "    df = pd.DataFrame(results)\n",
    "    df['t'] = pd.to_datetime(df['t'], unit='ms')\n",
    "    df = df.rename(columns={\n",
    "        't': 'Date',\n",
    "        'o': 'Open',\n",
    "        'h': 'High',\n",
    "        'l': 'Low',\n",
    "        'c': 'Close',\n",
    "        'v': 'Volume'\n",
    "    })[['Date', 'Open', 'High', 'Low', 'Close', 'Volume']]\n",
    "    \n",
    "    print(df.tail())\n",
    "    df.to_csv(f\"{symbol}_2yr_Price.csv\", index=False)\n",
    "    print(f\"✅ Saved: {symbol}_2yr_Price.csv\")\n",
    "else:\n",
    "    print(\"❌ Error from API:\", data.get(\"error\", \"Unknown error\"))\n"
   ]
  },
  {
   "cell_type": "code",
   "execution_count": null,
   "id": "2b4a9ae1-1cb5-453f-aa6f-861e16d87f8a",
   "metadata": {},
   "outputs": [],
   "source": [
    "# 02 NIO 2023.8.5-2025.8.5"
   ]
  },
  {
   "cell_type": "code",
   "execution_count": 30,
   "id": "d9229b1a-cb8d-4bb3-bff0-52fa5d2b48fd",
   "metadata": {},
   "outputs": [
    {
     "name": "stdout",
     "output_type": "stream",
     "text": [
      "                   Date  Open  High   Low  Close       Volume\n",
      "495 2025-07-29 04:00:00  4.82  4.84  4.68   4.71   38397363.0\n",
      "496 2025-07-30 04:00:00  4.60  4.61  4.51   4.51   40824104.0\n",
      "497 2025-07-31 04:00:00  4.68  4.98  4.46   4.87  131207095.0\n",
      "498 2025-08-01 04:00:00  4.74  5.06  4.73   5.01   81680862.0\n",
      "499 2025-08-04 04:00:00  4.89  4.90  4.58   4.60   92178877.0\n",
      "✅ Saved: NIO_2yr_Price.csv\n"
     ]
    }
   ],
   "source": [
    "import requests\n",
    "import pandas as pd\n",
    "from datetime import datetime, timedelta\n",
    "\n",
    "# ✅ Your API Key from Polygon\n",
    "API_KEY = 'gKxaQAP9WxR86rg3CiZLH0tecbpIGs5x'\n",
    "\n",
    "# ✅ Choose your stock symbol\n",
    "symbol = \"NIO\"  # Change to \"NIO\", \"XPEV\", or \"BYDDY\" for others\n",
    "\n",
    "# ✅ Date range: Last 2 years\n",
    "today = datetime.today()\n",
    "from_date = (today - timedelta(days=730)).strftime('%Y-%m-%d')\n",
    "to_date = today.strftime('%Y-%m-%d')\n",
    "\n",
    "# ✅ API endpoint and params\n",
    "url = f\"https://api.polygon.io/v2/aggs/ticker/{symbol}/range/1/day/{from_date}/{to_date}\"\n",
    "params = {\n",
    "    \"adjusted\": \"true\",\n",
    "    \"sort\": \"asc\",\n",
    "    \"limit\": 5000,\n",
    "    \"apiKey\": API_KEY\n",
    "}\n",
    "\n",
    "# ✅ Request and handle response\n",
    "response = requests.get(url, params=params)\n",
    "data = response.json()\n",
    "\n",
    "# ✅ Check and parse results\n",
    "if \"results\" in data:\n",
    "    results = data[\"results\"]\n",
    "    df = pd.DataFrame(results)\n",
    "    df['t'] = pd.to_datetime(df['t'], unit='ms')\n",
    "    df = df.rename(columns={\n",
    "        't': 'Date',\n",
    "        'o': 'Open',\n",
    "        'h': 'High',\n",
    "        'l': 'Low',\n",
    "        'c': 'Close',\n",
    "        'v': 'Volume'\n",
    "    })[['Date', 'Open', 'High', 'Low', 'Close', 'Volume']]\n",
    "    \n",
    "    print(df.tail())\n",
    "    df.to_csv(f\"{symbol}_2yr_Price.csv\", index=False)\n",
    "    print(f\"✅ Saved: {symbol}_2yr_Price.csv\")\n",
    "else:\n",
    "    print(\"❌ Error from API:\", data.get(\"error\", \"Unknown error\"))\n"
   ]
  },
  {
   "cell_type": "code",
   "execution_count": null,
   "id": "18a752e6-2d83-4e51-ba17-7b02e05ec3a0",
   "metadata": {},
   "outputs": [],
   "source": [
    "# 03 XPEV 2023.8.5-2025.8.5"
   ]
  },
  {
   "cell_type": "code",
   "execution_count": 32,
   "id": "71e1fa1d-78d3-4172-af32-205dc1a687cf",
   "metadata": {},
   "outputs": [
    {
     "name": "stdout",
     "output_type": "stream",
     "text": [
      "                   Date   Open    High    Low  Close     Volume\n",
      "495 2025-07-29 04:00:00  18.95  19.000  18.07  18.40  7831419.0\n",
      "496 2025-07-30 04:00:00  17.96  18.160  17.86  18.03  4425465.0\n",
      "497 2025-07-31 04:00:00  18.10  18.305  17.98  18.21  4185551.0\n",
      "498 2025-08-01 04:00:00  18.05  18.175  17.81  18.05  4368730.0\n",
      "499 2025-08-04 04:00:00  18.58  18.870  18.57  18.86  6161532.0\n",
      "✅ Saved: XPEV_2yr_Price.csv\n"
     ]
    }
   ],
   "source": [
    "import requests\n",
    "import pandas as pd\n",
    "from datetime import datetime, timedelta\n",
    "\n",
    "# ✅ Your API Key from Polygon\n",
    "API_KEY = 'gKxaQAP9WxR86rg3CiZLH0tecbpIGs5x'\n",
    "\n",
    "# ✅ Choose your stock symbol\n",
    "symbol = \"XPEV\"  # Change to \"NIO\", \"XPEV\", or \"BYDDY\" for others\n",
    "\n",
    "# ✅ Date range: Last 2 years\n",
    "today = datetime.today()\n",
    "from_date = (today - timedelta(days=730)).strftime('%Y-%m-%d')\n",
    "to_date = today.strftime('%Y-%m-%d')\n",
    "\n",
    "# ✅ API endpoint and params\n",
    "url = f\"https://api.polygon.io/v2/aggs/ticker/{symbol}/range/1/day/{from_date}/{to_date}\"\n",
    "params = {\n",
    "    \"adjusted\": \"true\",\n",
    "    \"sort\": \"asc\",\n",
    "    \"limit\": 5000,\n",
    "    \"apiKey\": API_KEY\n",
    "}\n",
    "\n",
    "# ✅ Request and handle response\n",
    "response = requests.get(url, params=params)\n",
    "data = response.json()\n",
    "\n",
    "# ✅ Check and parse results\n",
    "if \"results\" in data:\n",
    "    results = data[\"results\"]\n",
    "    df = pd.DataFrame(results)\n",
    "    df['t'] = pd.to_datetime(df['t'], unit='ms')\n",
    "    df = df.rename(columns={\n",
    "        't': 'Date',\n",
    "        'o': 'Open',\n",
    "        'h': 'High',\n",
    "        'l': 'Low',\n",
    "        'c': 'Close',\n",
    "        'v': 'Volume'\n",
    "    })[['Date', 'Open', 'High', 'Low', 'Close', 'Volume']]\n",
    "    \n",
    "    print(df.tail())\n",
    "    df.to_csv(f\"{symbol}_2yr_Price.csv\", index=False)\n",
    "    print(f\"✅ Saved: {symbol}_2yr_Price.csv\")\n",
    "else:\n",
    "    print(\"❌ Error from API:\", data.get(\"error\", \"Unknown error\"))\n"
   ]
  },
  {
   "cell_type": "code",
   "execution_count": null,
   "id": "2cdaf62a-feee-4644-9370-3fdaeca929d5",
   "metadata": {},
   "outputs": [],
   "source": [
    "# 04 BYDDY 2023.8.5-2025.8.5"
   ]
  },
  {
   "cell_type": "code",
   "execution_count": 34,
   "id": "2b0faacb-078d-4989-8bbe-4be03235ff59",
   "metadata": {},
   "outputs": [
    {
     "name": "stdout",
     "output_type": "stream",
     "text": [
      "                   Date   Open   High     Low    Close     Volume\n",
      "492 2025-07-29 04:00:00  16.25  16.35  16.085  16.1025  2111736.0\n",
      "493 2025-07-30 04:00:00  15.78  15.79  15.280  15.3500  3436132.0\n",
      "494 2025-07-31 04:00:00  14.83  14.83  14.620  14.6500  4020540.0\n",
      "495 2025-08-01 04:00:00  14.70  14.73  13.890  14.2500  5085588.0\n",
      "496 2025-08-04 04:00:00  14.57  14.59  14.450  14.5300  1824802.0\n",
      "✅ Saved: BYDDY_2yr_Price.csv\n"
     ]
    }
   ],
   "source": [
    "import requests\n",
    "import pandas as pd\n",
    "from datetime import datetime, timedelta\n",
    "\n",
    "# ✅ Your API Key from Polygon\n",
    "API_KEY = 'gKxaQAP9WxR86rg3CiZLH0tecbpIGs5x'\n",
    "\n",
    "# ✅ Choose your stock symbol\n",
    "symbol = \"BYDDY\"  # Change to \"NIO\", \"XPEV\", or \"BYDDY\" for others\n",
    "\n",
    "# ✅ Date range: Last 2 years\n",
    "today = datetime.today()\n",
    "from_date = (today - timedelta(days=730)).strftime('%Y-%m-%d')\n",
    "to_date = today.strftime('%Y-%m-%d')\n",
    "\n",
    "# ✅ API endpoint and params\n",
    "url = f\"https://api.polygon.io/v2/aggs/ticker/{symbol}/range/1/day/{from_date}/{to_date}\"\n",
    "params = {\n",
    "    \"adjusted\": \"true\",\n",
    "    \"sort\": \"asc\",\n",
    "    \"limit\": 5000,\n",
    "    \"apiKey\": API_KEY\n",
    "}\n",
    "\n",
    "# ✅ Request and handle response\n",
    "response = requests.get(url, params=params)\n",
    "data = response.json()\n",
    "\n",
    "# ✅ Check and parse results\n",
    "if \"results\" in data:\n",
    "    results = data[\"results\"]\n",
    "    df = pd.DataFrame(results)\n",
    "    df['t'] = pd.to_datetime(df['t'], unit='ms')\n",
    "    df = df.rename(columns={\n",
    "        't': 'Date',\n",
    "        'o': 'Open',\n",
    "        'h': 'High',\n",
    "        'l': 'Low',\n",
    "        'c': 'Close',\n",
    "        'v': 'Volume'\n",
    "    })[['Date', 'Open', 'High', 'Low', 'Close', 'Volume']]\n",
    "    \n",
    "    print(df.tail())\n",
    "    df.to_csv(f\"{symbol}_2yr_Price.csv\", index=False)\n",
    "    print(f\"✅ Saved: {symbol}_2yr_Price.csv\")\n",
    "else:\n",
    "    print(\"❌ Error from API:\", data.get(\"error\", \"Unknown error\"))"
   ]
  },
  {
   "cell_type": "code",
   "execution_count": null,
   "id": "4deebba7-3186-4645-bd26-6d785fe6a842",
   "metadata": {},
   "outputs": [],
   "source": []
  },
  {
   "cell_type": "code",
   "execution_count": null,
   "id": "8a5ab33f-f9ff-4630-ac79-e2555b92b3b7",
   "metadata": {},
   "outputs": [],
   "source": []
  },
  {
   "cell_type": "code",
   "execution_count": null,
   "id": "39c92d7f-d634-4487-ae39-fc0ebbc24840",
   "metadata": {},
   "outputs": [],
   "source": []
  }
 ],
 "metadata": {
  "kernelspec": {
   "display_name": "Python 3 (ipykernel)",
   "language": "python",
   "name": "python3"
  },
  "language_info": {
   "codemirror_mode": {
    "name": "ipython",
    "version": 3
   },
   "file_extension": ".py",
   "mimetype": "text/x-python",
   "name": "python",
   "nbconvert_exporter": "python",
   "pygments_lexer": "ipython3",
   "version": "3.12.4"
  }
 },
 "nbformat": 4,
 "nbformat_minor": 5
}
