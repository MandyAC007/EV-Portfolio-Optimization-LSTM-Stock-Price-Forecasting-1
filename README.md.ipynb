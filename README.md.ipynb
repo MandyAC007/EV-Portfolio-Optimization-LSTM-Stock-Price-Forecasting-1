{
 "cells": [
  {
   "cell_type": "code",
   "execution_count": null,
   "id": "83f56059-91e5-400c-9ab3-1e42f3200cf0",
   "metadata": {},
   "outputs": [],
   "source": [
    "EV-Portfolio-LSTM/\n",
    "\n",
    "├── data/                  # CSV datasets\n",
    "├── plots/                 # Generated charts\n",
    "├── scripts/               # Python scripts\n",
    "├── README.md              # Project documentation"
   ]
  },
  {
   "cell_type": "code",
   "execution_count": null,
   "id": "2cdaf62a-feee-4644-9370-3fdaeca929d5",
   "metadata": {},
   "outputs": [],
   "source": [
    "## Installation ⚙️ \n",
    "pip install -r requirements.txt\n",
    "\n",
    "## Run ▶️\n",
    "python portfolio_optimization.py\n",
    "python lstm_forecast.py"
   ]
  },
  {
   "metadata": {},
   "cell_type": "markdown",
   "source": "",
   "id": "88aa22a8fd02e97f"
  },
  {
   "cell_type": "markdown",
   "id": "a434f715-7da0-409c-9eb9-6ff537eb7abb",
   "metadata": {},
   "source": [
    "**# EV Portfolio Optimization & LSTM Stock Price Forecasting**\n",
    "\n",
    "## Overview\n",
    "This project combines **quantitative portfolio optimization** and **deep learning-based time series forecasting** to guide investment strategies in the Electric Vehicle (EV) sector.  \n",
    "We analyze four key EV stocks — **Tesla, BYD, NIO, XPeng** — using historical price data, technical indicators, and machine learning models.\n",
    "\n",
    "---\n",
    "\n",
    "## Objectives\n",
    "- Optimize a **minimum variance EV stock portfolio** using historical returns and covariance matrices.\n",
    "- Assess allocation stability with **bootstrapping**.\n",
    "- Predict the next **60 trading days** (~3 months) of stock prices using **LSTM neural networks**.\n",
    "- Visualize trends with custom-colored plots for clarity.\n",
    "\n",
    "---\n",
    "\n",
    "## Data Sources\n",
    "- Historical price datasets for:\n",
    "  - Tesla\n",
    "  - BYD\n",
    "  - NIO\n",
    "  - XPeng\n",
    "- Enhanced with **technical indicators**:\n",
    "  - Simple Moving Average (**SMA**)\n",
    "  - Relative Strength Index (**RSI**)\n",
    "  - Moving Average Convergence Divergence (**MACD**)\n",
    "- Cleaned, aligned, and merged into a unified DataFrame of daily returns.\n",
    "\n",
    "---\n",
    "\n",
    "##  Methodology\n",
    "\n",
    "**# Part 1: Portfolio Optimization**\n",
    "\n",
    "1. **Data Processing**\n",
    "   ```python\n",
    "   # Load & clean CSVs\n",
    "   df = pd.read_csv(file_path)\n",
    "   df['Date'] = pd.to_datetime(df['Date'])\n",
    "   df.sort_values('Date', inplace=True)\n",
    "\n",
    "   # Calculate daily returns\n",
    "   df['Return'] = df['Close'].pct_change()\n"
   ]
  },
  {
   "cell_type": "markdown",
   "id": "54e4447f-019c-476e-8b6f-27d5abff17d4",
   "metadata": {},
   "source": [
    "**# 2. Optimization**"
   ]
  },
  {
   "cell_type": "code",
   "execution_count": null,
   "id": "84f6e503-4107-4167-b62f-7dc58c2567d3",
   "metadata": {},
   "outputs": [],
   "source": [
    "   cov_matrix = np.cov(returns_matrix, rowvar=False)\n",
    "   inv_cov = np.linalg.inv(cov_matrix)\n",
    "   ones = np.ones(returns_matrix.shape[1])\n",
    "   optimal_weights = inv_cov @ ones / (ones.T @ inv_cov @ ones)"
   ]
  },
  {
   "cell_type": "markdown",
   "id": "da9bdeeb-d9a2-48e9-9328-1c9189b8811f",
   "metadata": {},
   "source": [
    "**# 3. Interpretation**"
   ]
  },
  {
   "cell_type": "code",
   "execution_count": null,
   "id": "f2de6a04-0aab-45d0-a8c4-3b142f81abd2",
   "metadata": {},
   "outputs": [],
   "source": [
    "def interpret_weight(row):\n",
    "    if row['Optimal Weight'] > 0:\n",
    "        return f\"Allocate {row['Optimal Weight']:.2%} to {row['Stock']} (long)\"\n",
    "    elif row['Optimal Weight'] < 0:\n",
    "        return f\"Short {abs(row['Optimal Weight']):.2%} of {row['Stock']}\"\n",
    "    else:\n",
    "        return f\"No allocation to {row['Stock']}\""
   ]
  },
  {
   "cell_type": "markdown",
   "id": "d07945c4-fc01-4b02-9c67-11f0440a717f",
   "metadata": {},
   "source": [
    "**# 4. Bootstrapping**"
   ]
  },
  {
   "cell_type": "code",
   "execution_count": null,
   "id": "0616aa74-ed2e-42d2-b785-8bb69614bd11",
   "metadata": {},
   "outputs": [],
   "source": [
    "for _ in range(500):\n",
    "    sample_idx = np.random.choice(n_obs, size=n_obs, replace=True)\n",
    "    sample = returns_matrix[sample_idx]\n",
    "    cov_sample = np.cov(sample, rowvar=False)\n",
    "    inv_sample = np.linalg.inv(cov_sample)\n",
    "    w = inv_sample @ ones / (ones.T @ inv_sample @ ones)\n",
    "    boot_weights.append(w)"
   ]
  },
  {
   "cell_type": "markdown",
   "id": "5fa0ae41-2446-45bc-8c22-fcec3adcf83f",
   "metadata": {},
   "source": [
    "**# Part 2: Price Forecasting with LSTM**\n",
    "\n",
    "**# 1. Sequence Preparation**"
   ]
  },
  {
   "cell_type": "code",
   "execution_count": null,
   "id": "b64602bd-aeb4-44f0-a6b8-33b39c01a665",
   "metadata": {},
   "outputs": [],
   "source": [
    "from sklearn.preprocessing import MinMaxScaler\n",
    "\n",
    "def prepare_lstm_data(df, feature_col='Price', window_size=5):\n",
    "    scaler = MinMaxScaler()\n",
    "    scaled_data = scaler.fit_transform(df[[feature_col]])\n",
    "    X, y = [], []\n",
    "    for i in range(window_size, len(scaled_data)):\n",
    "        X.append(scaled_data[i-window_size:i])\n",
    "        y.append(scaled_data[i])\n",
    "    return np.array(X), np.array(y), scaler"
   ]
  },
  {
   "cell_type": "markdown",
   "id": "becaaf26-aeb3-441c-9c3c-529d3eb3153e",
   "metadata": {},
   "source": [
    "**# 2. Model Training**"
   ]
  },
  {
   "cell_type": "code",
   "execution_count": null,
   "id": "4deebba7-3186-4645-bd26-6d785fe6a842",
   "metadata": {},
   "outputs": [],
   "source": [
    "from tensorflow.keras.models import Sequential\n",
    "from tensorflow.keras.layers import LSTM, Dense, Input\n",
    "\n",
    "model = Sequential()\n",
    "model.add(Input(shape=(X.shape[1], X.shape[2])))\n",
    "model.add(LSTM(units=50, return_sequences=True))\n",
    "model.add(LSTM(units=50))\n",
    "model.add(Dense(units=1))\n",
    "model.compile(optimizer='adam', loss='mean_squared_error')\n",
    "model.fit(X, y, epochs=50, batch_size=4, verbose=1)"
   ]
  },
  {
   "cell_type": "markdown",
   "id": "670944ee-ff1e-4b9a-bbdb-0301e3002897",
   "metadata": {},
   "source": [
    "**# 3. Forecasting**"
   ]
  },
  {
   "cell_type": "code",
   "execution_count": null,
   "id": "1a707381-a6c7-466a-9db0-d581d19445ac",
   "metadata": {},
   "outputs": [],
   "source": [
    "last_sequence = X[-1]\n",
    "predictions = []\n",
    "for _ in range(60):\n",
    "    pred = model.predict(last_sequence.reshape(1, 5, 1), verbose=0)\n",
    "    predictions.append(pred[0, 0])\n",
    "    last_sequence = np.append(last_sequence[1:], pred[0, 0]).reshape(5, 1)\n",
    "predicted_prices = scaler.inverse_transform(np.array(predictions).reshape(-1, 1))"
   ]
  },
  {
   "cell_type": "markdown",
   "id": "d5fe4bc8-3dbe-4656-ae9c-8a1d1a82e1f8",
   "metadata": {},
   "source": [
    "## Results\n",
    "- Optimal Portfolio Weights\n",
    "- Stock\tWeight\tInterpretation\n",
    "\n",
    "1，Tesla\t~25%\tModerate long position\n",
    "\n",
    "2，BYD\t~71%\tStrong long position\n",
    "\n",
    "3，NIO\t~7.8%\tSmall hedge\n",
    "\n",
    "4，XPeng\t~-4.7%\tShort position for hedging\n",
    "\n",
    "##  Visual Samples\n",
    "\n",
    "Bootstrapped Weight Distributions\n",
    "(Custom colors for each stock — Tesla: darkgreen, BYD: lightgreen, NIO: yellowgreen, XPeng: purple)\n",
    "\n",
    "LSTM Forecast Plots\n",
    "\n",
    "- 60-day price prediction for each stock\n",
    "- Historical prices plotted in black for contrast\n",
    "\n",
    "##  Tools & Libraries\n",
    "\n",
    "- Python: pandas, numpy, matplotlib\n",
    "\n",
    "- Machine Learning: tensorflow / keras\n",
    "\n",
    "- Data Processing: scikit-learn\n",
    "\n",
    "- Visualization: Custom color coding\n",
    "\n",
    "## Future Improvements\n",
    "\n",
    "- Add Sharpe ratio & efficient frontier analysis\n",
    "\n",
    "- Explore multivariate LSTM for joint stock predictions\n",
    "\n",
    "- Integrate macroeconomic indicators\n",
    "\n",
    "- Deploy as an interactive Streamlit dashboard\n"
   ]
  },
  {
   "cell_type": "code",
   "execution_count": null,
   "id": "aad28771-cc51-4da3-bcd6-a0986a9f8ce8",
   "metadata": {},
   "outputs": [],
   "source": []
  },
  {
   "cell_type": "code",
   "execution_count": null,
   "id": "dd490709-e853-482c-bd63-a727a1ca5250",
   "metadata": {},
   "outputs": [],
   "source": []
  },
  {
   "cell_type": "code",
   "execution_count": null,
   "id": "4a8edd5e-83f1-4f3a-b8a3-912271cfb9f1",
   "metadata": {},
   "outputs": [],
   "source": []
  },
  {
   "cell_type": "code",
   "execution_count": null,
   "id": "8a5ab33f-f9ff-4630-ac79-e2555b92b3b7",
   "metadata": {},
   "outputs": [],
   "source": []
  },
  {
   "cell_type": "code",
   "execution_count": null,
   "id": "39c92d7f-d634-4487-ae39-fc0ebbc24840",
   "metadata": {},
   "outputs": [],
   "source": []
  }
 ],
 "metadata": {
  "kernelspec": {
   "display_name": "Python 3 (ipykernel)",
   "language": "python",
   "name": "python3"
  },
  "language_info": {
   "codemirror_mode": {
    "name": "ipython",
    "version": 3
   },
   "file_extension": ".py",
   "mimetype": "text/x-python",
   "name": "python",
   "nbconvert_exporter": "python",
   "pygments_lexer": "ipython3",
   "version": "3.12.4"
  }
 },
 "nbformat": 4,
 "nbformat_minor": 5
}
